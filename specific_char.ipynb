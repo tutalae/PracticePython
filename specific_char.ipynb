{
  "nbformat": 4,
  "nbformat_minor": 0,
  "metadata": {
    "colab": {
      "name": "specific char.ipynb",
      "provenance": [],
      "authorship_tag": "ABX9TyPAi7y6vyUGTN5qsvOC8OJB",
      "include_colab_link": true
    },
    "kernelspec": {
      "name": "python3",
      "display_name": "Python 3"
    },
    "language_info": {
      "name": "python"
    }
  },
  "cells": [
    {
      "cell_type": "markdown",
      "metadata": {
        "id": "view-in-github",
        "colab_type": "text"
      },
      "source": [
        "<a href=\"https://colab.research.google.com/github/tutalae/PracticePython/blob/main/specific_char.ipynb\" target=\"_parent\"><img src=\"https://colab.research.google.com/assets/colab-badge.svg\" alt=\"Open In Colab\"/></a>"
      ]
    },
    {
      "cell_type": "code",
      "metadata": {
        "id": "iA3IOaxvYL1M"
      },
      "source": [
        "import re"
      ],
      "execution_count": 1,
      "outputs": []
    },
    {
      "cell_type": "code",
      "metadata": {
        "colab": {
          "base_uri": "https://localhost:8080/"
        },
        "id": "nhnafkeKYR3u",
        "outputId": "b60fd9ba-eec9-414c-cf53-041971ef4fe1"
      },
      "source": [
        "pattern = r\"([\\w\\.-]+)@([\\w\\.-]+)(\\.[\\w\\.]+)\"\n",
        "str = \"Please contact info@sololearn.com for assistance\"\n",
        "\n",
        "match = re.search(pattern, str)\n",
        "if match:\n",
        "    print(match.group())"
      ],
      "execution_count": 2,
      "outputs": [
        {
          "output_type": "stream",
          "text": [
            "info@sololearn.com\n"
          ],
          "name": "stdout"
        }
      ]
    },
    {
      "cell_type": "code",
      "metadata": {
        "id": "6tyxNOakYWLE"
      },
      "source": [
        ""
      ],
      "execution_count": null,
      "outputs": []
    }
  ]
}