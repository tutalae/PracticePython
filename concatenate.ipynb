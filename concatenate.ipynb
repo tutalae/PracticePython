{
  "nbformat": 4,
  "nbformat_minor": 0,
  "metadata": {
    "colab": {
      "name": "concatenate.ipynb",
      "provenance": [],
      "authorship_tag": "ABX9TyMGVP9qIYeku3nMxkLFZ+b/",
      "include_colab_link": true
    },
    "kernelspec": {
      "name": "python3",
      "display_name": "Python 3"
    },
    "language_info": {
      "name": "python"
    }
  },
  "cells": [
    {
      "cell_type": "markdown",
      "metadata": {
        "id": "view-in-github",
        "colab_type": "text"
      },
      "source": [
        "<a href=\"https://colab.research.google.com/github/tutalae/PracticePython/blob/main/concatenate.ipynb\" target=\"_parent\"><img src=\"https://colab.research.google.com/assets/colab-badge.svg\" alt=\"Open In Colab\"/></a>"
      ]
    },
    {
      "cell_type": "code",
      "metadata": {
        "id": "uGPjkfiVk0vo"
      },
      "source": [
        "def concatenate(*args):\n",
        "    result = None\n",
        "    for i in args:\n",
        "        if result == None:\n",
        "            result = i\n",
        "        else:\n",
        "            result += \"-\" + i\n",
        "    return result"
      ],
      "execution_count": 1,
      "outputs": []
    },
    {
      "cell_type": "code",
      "metadata": {
        "colab": {
          "base_uri": "https://localhost:8080/"
        },
        "id": "NvWNCC-Sk6Fq",
        "outputId": "f4e535a7-fe0f-4bd2-f7ae-7221b6952943"
      },
      "source": [
        "print(concatenate(\"I\", \"love\", \"Python\", \"!\"))"
      ],
      "execution_count": 2,
      "outputs": [
        {
          "output_type": "stream",
          "text": [
            "I-love-Python-!\n"
          ],
          "name": "stdout"
        }
      ]
    }
  ]
}