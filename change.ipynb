{
  "nbformat": 4,
  "nbformat_minor": 0,
  "metadata": {
    "colab": {
      "name": "change.ipynb",
      "provenance": [],
      "authorship_tag": "ABX9TyMmLSJhfpARD3cRtBmtAu5I",
      "include_colab_link": true
    },
    "kernelspec": {
      "name": "python3",
      "display_name": "Python 3"
    },
    "language_info": {
      "name": "python"
    }
  },
  "cells": [
    {
      "cell_type": "markdown",
      "metadata": {
        "id": "view-in-github",
        "colab_type": "text"
      },
      "source": [
        "<a href=\"https://colab.research.google.com/github/tutalae/PracticePython/blob/main/change.ipynb\" target=\"_parent\"><img src=\"https://colab.research.google.com/assets/colab-badge.svg\" alt=\"Open In Colab\"/></a>"
      ]
    },
    {
      "cell_type": "code",
      "metadata": {
        "colab": {
          "base_uri": "https://localhost:8080/"
        },
        "id": "FwTE9o9UHi-c",
        "outputId": "78ce0840-3e3e-45dc-8b04-607d498e3b7c"
      },
      "source": [
        "import re\n",
        "\n",
        "pattern = r\"spam\"\n",
        "\n",
        "# start with\n",
        "if re.match(pattern, \"eggspamsausagespam\"):\n",
        "    print(\"Match\")\n",
        "else:\n",
        "    print(\"No match\")\n",
        "\n",
        "if re.search(pattern, \"eggspamsausagespam\"):\n",
        "    print(\"Match\")\n",
        "else:\n",
        "    print(\"No match\")\n",
        "\n",
        "print(re.findall(pattern, \"eggspamsausagespam\"))"
      ],
      "execution_count": 1,
      "outputs": [
        {
          "output_type": "stream",
          "text": [
            "No match\n",
            "Match\n",
            "['spam', 'spam']\n"
          ],
          "name": "stdout"
        }
      ]
    },
    {
      "cell_type": "code",
      "metadata": {
        "colab": {
          "base_uri": "https://localhost:8080/"
        },
        "id": "McNlLyKgHjiz",
        "outputId": "6efc0d57-12b0-4593-b223-df0c3f58290e"
      },
      "source": [
        "pattern = r\"pam\"\n",
        "\n",
        "match = re.search(pattern, \"eggspamsausage\")\n",
        "if match:\n",
        "    print(match.group())\n",
        "    print(match.start())\n",
        "    print(match.end())\n",
        "    print(match.span())"
      ],
      "execution_count": 2,
      "outputs": [
        {
          "output_type": "stream",
          "text": [
            "pam\n",
            "4\n",
            "7\n",
            "(4, 7)\n"
          ],
          "name": "stdout"
        }
      ]
    },
    {
      "cell_type": "code",
      "metadata": {
        "colab": {
          "base_uri": "https://localhost:8080/"
        },
        "id": "u2msG3YlH6Xc",
        "outputId": "080755fa-566a-4204-c301-79ae74b0718b"
      },
      "source": [
        "str = \"My name is David. Hi David.\"\n",
        "pattern = r\"David\"\n",
        "newstr = re.sub(pattern, \"Amy\", str)\n",
        "print(newstr)"
      ],
      "execution_count": 3,
      "outputs": [
        {
          "output_type": "stream",
          "text": [
            "My name is Amy. Hi Amy.\n"
          ],
          "name": "stdout"
        }
      ]
    },
    {
      "cell_type": "code",
      "metadata": {
        "id": "gN_dLMhhINc6"
      },
      "source": [
        ""
      ],
      "execution_count": 3,
      "outputs": []
    }
  ]
}