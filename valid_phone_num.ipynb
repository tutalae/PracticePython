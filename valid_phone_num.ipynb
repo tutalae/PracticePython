{
  "nbformat": 4,
  "nbformat_minor": 0,
  "metadata": {
    "colab": {
      "name": "valid phone num.ipynb",
      "provenance": [],
      "authorship_tag": "ABX9TyNx/cvVMHAqOM3GlARLGBq/",
      "include_colab_link": true
    },
    "kernelspec": {
      "name": "python3",
      "display_name": "Python 3"
    },
    "language_info": {
      "name": "python"
    }
  },
  "cells": [
    {
      "cell_type": "markdown",
      "metadata": {
        "id": "view-in-github",
        "colab_type": "text"
      },
      "source": [
        "<a href=\"https://colab.research.google.com/github/tutalae/PracticePython/blob/main/valid_phone_num.ipynb\" target=\"_parent\"><img src=\"https://colab.research.google.com/assets/colab-badge.svg\" alt=\"Open In Colab\"/></a>"
      ]
    },
    {
      "cell_type": "code",
      "metadata": {
        "colab": {
          "base_uri": "https://localhost:8080/"
        },
        "id": "Z3MJsuoua63o",
        "outputId": "568842ba-5ee6-431c-bb09-6729e8e213e9"
      },
      "source": [
        "import re\n",
        "\n",
        "num = input ()\n",
        "pattern = r\"^[1|8|9][0-9]*$\"\n",
        "if re.match(pattern,num) and len(num)==8:\n",
        "    print(\"Valid\")\n",
        "else:\n",
        "    print(\"Invalid\")  "
      ],
      "execution_count": 1,
      "outputs": [
        {
          "output_type": "stream",
          "text": [
            "88888888\n",
            "Valid\n"
          ],
          "name": "stdout"
        }
      ]
    },
    {
      "cell_type": "code",
      "metadata": {
        "id": "j80FQ8pEa_-l"
      },
      "source": [
        ""
      ],
      "execution_count": null,
      "outputs": []
    }
  ]
}