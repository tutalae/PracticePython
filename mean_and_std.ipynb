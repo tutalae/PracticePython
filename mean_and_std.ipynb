{
  "nbformat": 4,
  "nbformat_minor": 0,
  "metadata": {
    "colab": {
      "name": "mean and std.ipynb",
      "provenance": [],
      "authorship_tag": "ABX9TyN0047e7JrCdzSH6mMzYPX4",
      "include_colab_link": true
    },
    "kernelspec": {
      "name": "python3",
      "display_name": "Python 3"
    },
    "language_info": {
      "name": "python"
    }
  },
  "cells": [
    {
      "cell_type": "markdown",
      "metadata": {
        "id": "view-in-github",
        "colab_type": "text"
      },
      "source": [
        "<a href=\"https://colab.research.google.com/github/tutalae/PracticePython/blob/main/mean_and_std.ipynb\" target=\"_parent\"><img src=\"https://colab.research.google.com/assets/colab-badge.svg\" alt=\"Open In Colab\"/></a>"
      ]
    },
    {
      "cell_type": "markdown",
      "metadata": {
        "id": "ageZfL8fnLAf"
      },
      "source": [
        "The given code includes a list of heights for various basketball players.\n",
        "You need to calculate and output how many players are in the range of one standard deviation from the mean."
      ]
    },
    {
      "cell_type": "code",
      "metadata": {
        "colab": {
          "base_uri": "https://localhost:8080/"
        },
        "id": "_F-WK_K1mzZg",
        "outputId": "7b3976cf-f9b3-4620-81b6-fa2407cd5199"
      },
      "source": [
        "players = [180, 172, 178, 185, 190, 195, 192, 200, 210, 190]\n",
        "\n",
        "mean = sum(players)/len(players)\n",
        "stdvar = (sum((v-mean)**2 for v in players)/len(players))**0.5\n",
        "\n",
        "low, high = mean-stdvar,mean+stdvar\n",
        "\n",
        "count = len([v for v in players if low < v < high])\n",
        "\n",
        "print(count)"
      ],
      "execution_count": 1,
      "outputs": [
        {
          "output_type": "stream",
          "text": [
            "6\n"
          ],
          "name": "stdout"
        }
      ]
    },
    {
      "cell_type": "code",
      "metadata": {
        "colab": {
          "base_uri": "https://localhost:8080/"
        },
        "id": "ArX2nRwenREZ",
        "outputId": "58f59bb4-70a1-40c1-d3d3-ad3e2cabdf97"
      },
      "source": [
        "mean"
      ],
      "execution_count": 3,
      "outputs": [
        {
          "output_type": "execute_result",
          "data": {
            "text/plain": [
              "189.2"
            ]
          },
          "metadata": {
            "tags": []
          },
          "execution_count": 3
        }
      ]
    },
    {
      "cell_type": "code",
      "metadata": {
        "colab": {
          "base_uri": "https://localhost:8080/"
        },
        "id": "TU9K94xun4C_",
        "outputId": "890f84a2-1cc9-4be4-91f6-faf8b05d8689"
      },
      "source": [
        "stdvar"
      ],
      "execution_count": 9,
      "outputs": [
        {
          "output_type": "execute_result",
          "data": {
            "text/plain": [
              "10.562196741208714"
            ]
          },
          "metadata": {
            "tags": []
          },
          "execution_count": 9
        }
      ]
    },
    {
      "cell_type": "code",
      "metadata": {
        "colab": {
          "base_uri": "https://localhost:8080/"
        },
        "id": "NzHnLOrdnABR",
        "outputId": "4deea0eb-16cf-4d70-a2c8-502a617ef551"
      },
      "source": [
        "print(low, high)"
      ],
      "execution_count": 2,
      "outputs": [
        {
          "output_type": "stream",
          "text": [
            "178.63780325879128 199.7621967412087\n"
          ],
          "name": "stdout"
        }
      ]
    },
    {
      "cell_type": "code",
      "metadata": {
        "colab": {
          "base_uri": "https://localhost:8080/"
        },
        "id": "dTi25HMknCLb",
        "outputId": "793719bd-9003-4513-afa2-bec9432c0eb0"
      },
      "source": [
        "for v in players: \n",
        "  if low < v < high:\n",
        "    print(v)\n"
      ],
      "execution_count": 8,
      "outputs": [
        {
          "output_type": "stream",
          "text": [
            "180\n",
            "185\n",
            "190\n",
            "195\n",
            "192\n",
            "190\n"
          ],
          "name": "stdout"
        }
      ]
    },
    {
      "cell_type": "code",
      "metadata": {
        "id": "ZkjMU_fUndra"
      },
      "source": [
        ""
      ],
      "execution_count": null,
      "outputs": []
    }
  ]
}