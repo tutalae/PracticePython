{
  "nbformat": 4,
  "nbformat_minor": 0,
  "metadata": {
    "colab": {
      "name": "COVID Data Analysis ratio.ipynb",
      "provenance": [],
      "authorship_tag": "ABX9TyO7jvbPEeNsai8Kr5FThTud",
      "include_colab_link": true
    },
    "kernelspec": {
      "name": "python3",
      "display_name": "Python 3"
    },
    "language_info": {
      "name": "python"
    }
  },
  "cells": [
    {
      "cell_type": "markdown",
      "metadata": {
        "id": "view-in-github",
        "colab_type": "text"
      },
      "source": [
        "<a href=\"https://colab.research.google.com/github/tutalae/PracticePython/blob/main/COVID_Data_Analysis_ratio.ipynb\" target=\"_parent\"><img src=\"https://colab.research.google.com/assets/colab-badge.svg\" alt=\"Open In Colab\"/></a>"
      ]
    },
    {
      "cell_type": "markdown",
      "metadata": {
        "id": "uf25w23jZqkP"
      },
      "source": [
        "You are working with the COVID dataset for California, which includes the number of cases and deaths for each day of 2020.\n",
        "Find the day when the deaths/cases ratio was largest.\n",
        "\n",
        "To do this, you need to first calculate the deaths/cases ratio and add it as a column to the DataFrame with the name 'ratio', then find the row that corresponds to the largest value."
      ]
    },
    {
      "cell_type": "code",
      "metadata": {
        "id": "KyViiLBQZehx"
      },
      "source": [
        "import pandas as pd"
      ],
      "execution_count": 2,
      "outputs": []
    },
    {
      "cell_type": "code",
      "metadata": {
        "colab": {
          "base_uri": "https://localhost:8080/"
        },
        "id": "skaMpiNzZS2U",
        "outputId": "c76abf0f-4499-40ef-f2f7-f047b5d067be"
      },
      "source": [
        "df = pd.read_csv(\"https://www.sololearn.com/uploads/ca-covid.csv\")\n",
        "\n",
        "df.drop('state', axis=1, inplace=True)\n",
        "df.set_index('date', inplace=True)\n",
        "df[\"ratio\"] = df[\"deaths\"] / df[\"cases\"]\n",
        "max_ratio = df.loc[df[\"ratio\"] == df[\"ratio\"].max()]\n",
        "print(max_ratio)"
      ],
      "execution_count": 3,
      "outputs": [
        {
          "output_type": "stream",
          "text": [
            "          cases  deaths     ratio\n",
            "date                             \n",
            "10.03.20      7       1  0.142857\n"
          ],
          "name": "stdout"
        }
      ]
    }
  ]
}