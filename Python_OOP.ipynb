{
  "nbformat": 4,
  "nbformat_minor": 0,
  "metadata": {
    "colab": {
      "name": "Python-OOP.ipynb",
      "provenance": [],
      "authorship_tag": "ABX9TyO0FNBXdgtpfyI96vQULUBs",
      "include_colab_link": true
    },
    "kernelspec": {
      "name": "python3",
      "display_name": "Python 3"
    },
    "language_info": {
      "name": "python"
    }
  },
  "cells": [
    {
      "cell_type": "markdown",
      "metadata": {
        "id": "view-in-github",
        "colab_type": "text"
      },
      "source": [
        "<a href=\"https://colab.research.google.com/github/tutalae/PracticePython/blob/main/Python_OOP.ipynb\" target=\"_parent\"><img src=\"https://colab.research.google.com/assets/colab-badge.svg\" alt=\"Open In Colab\"/></a>"
      ]
    },
    {
      "cell_type": "code",
      "metadata": {
        "id": "UzGDT1cQIsT0"
      },
      "source": [
        "class Player(object):\n",
        "  def __init__(self): # dunder = double underscores\n",
        "    self.fname = \"\"\n",
        "    self.lname = \"\"\n",
        "    self.number = \"\"\n"
      ],
      "execution_count": 1,
      "outputs": []
    },
    {
      "cell_type": "code",
      "metadata": {
        "id": "4rvx301gIsWp"
      },
      "source": [
        "if __name__ == '__main__':\n",
        "  p1 = Player()\n",
        "  p1.fname = \"sari\"\n",
        "  p1.lname = \"risa\"\n",
        "  p1.number = 1\n",
        "\n",
        "  p2 = Player()\n",
        "  p2.fname = \"soki\"\n",
        "  p2.lname = \"kiso\"\n",
        "  p2.number = 2\n"
      ],
      "execution_count": 4,
      "outputs": []
    },
    {
      "cell_type": "code",
      "metadata": {
        "colab": {
          "base_uri": "https://localhost:8080/"
        },
        "id": "qKtqSMC_IsZ6",
        "outputId": "8ddea74d-20ce-4820-9562-c70818072537"
      },
      "source": [
        "print(p1.fname, p1.lname, p1.number)"
      ],
      "execution_count": 10,
      "outputs": [
        {
          "output_type": "stream",
          "text": [
            "sari risa 1\n"
          ],
          "name": "stdout"
        }
      ]
    },
    {
      "cell_type": "code",
      "metadata": {
        "id": "TxU_ky7TIsdQ"
      },
      "source": [
        ""
      ],
      "execution_count": null,
      "outputs": []
    }
  ]
}