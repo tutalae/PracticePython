{
  "nbformat": 4,
  "nbformat_minor": 0,
  "metadata": {
    "colab": {
      "name": "standard deviation from the mean..ipynb",
      "provenance": [],
      "authorship_tag": "ABX9TyM4IEBOnK0RAeUrxgfJH7Zb",
      "include_colab_link": true
    },
    "kernelspec": {
      "name": "python3",
      "display_name": "Python 3"
    },
    "language_info": {
      "name": "python"
    }
  },
  "cells": [
    {
      "cell_type": "markdown",
      "metadata": {
        "id": "view-in-github",
        "colab_type": "text"
      },
      "source": [
        "<a href=\"https://colab.research.google.com/github/tutalae/PracticePython/blob/main/standard_deviation_from_the_mean_.ipynb\" target=\"_parent\"><img src=\"https://colab.research.google.com/assets/colab-badge.svg\" alt=\"Open In Colab\"/></a>"
      ]
    },
    {
      "cell_type": "markdown",
      "metadata": {
        "id": "SrwAdb3xS_4b"
      },
      "source": [
        "You are given an array that represents house prices.\n",
        "Calculate and output the percentage of houses that are within one standard deviation from the mean."
      ]
    },
    {
      "cell_type": "code",
      "metadata": {
        "colab": {
          "base_uri": "https://localhost:8080/"
        },
        "id": "nUP2eHrkS5D2",
        "outputId": "a52bfef9-884d-4ff4-e275-b01f37999371"
      },
      "source": [
        "import numpy as np\n",
        "\n",
        "data = np.array([150000, 125000, 320000, 540000, 200000, 120000, 160000, 230000, 280000, 290000, 300000, 500000, 420000, 100000, 150000, 280000])\n",
        "\n",
        "m = np.mean(data)\n",
        "d = np.std(data)\n",
        "y1 = m-d\n",
        "y2 = m+d\n",
        "s = len(data [(data > y1) & (data < y2)])\n",
        "r = (s/len(data))*100\n",
        "print(r)"
      ],
      "execution_count": 1,
      "outputs": [
        {
          "output_type": "stream",
          "text": [
            "62.5\n"
          ],
          "name": "stdout"
        }
      ]
    },
    {
      "cell_type": "code",
      "metadata": {
        "colab": {
          "base_uri": "https://localhost:8080/"
        },
        "id": "fsZZCFUvTD0S",
        "outputId": "c93bacc9-39cf-46ee-af3e-5d60aebf055a"
      },
      "source": [
        "r*100"
      ],
      "execution_count": 2,
      "outputs": [
        {
          "output_type": "execute_result",
          "data": {
            "text/plain": [
              "6250.0"
            ]
          },
          "metadata": {
            "tags": []
          },
          "execution_count": 2
        }
      ]
    },
    {
      "cell_type": "code",
      "metadata": {
        "id": "DuGY7FPITTHA"
      },
      "source": [
        ""
      ],
      "execution_count": null,
      "outputs": []
    }
  ]
}